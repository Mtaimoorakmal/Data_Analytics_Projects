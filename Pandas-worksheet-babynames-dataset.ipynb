{
 "cells": [
  {
   "cell_type": "code",
   "execution_count": 1,
   "id": "22486391",
   "metadata": {
    "_cell_guid": "b1076dfc-b9ad-4769-8c92-a6c4dae69d19",
    "_uuid": "8f2839f25d086af736a60e9eeb907d3b93b6e0e5",
    "execution": {
     "iopub.execute_input": "2024-10-30T20:49:44.106189Z",
     "iopub.status.busy": "2024-10-30T20:49:44.105747Z",
     "iopub.status.idle": "2024-10-30T20:49:44.909557Z",
     "shell.execute_reply": "2024-10-30T20:49:44.908613Z"
    },
    "papermill": {
     "duration": 0.816503,
     "end_time": "2024-10-30T20:49:44.911965",
     "exception": false,
     "start_time": "2024-10-30T20:49:44.095462",
     "status": "completed"
    },
    "tags": []
   },
   "outputs": [],
   "source": [
    "import numpy as np # linear algebra\n",
    "import pandas as pd # data processing, CSV file I/O (e.g. pd.read_csv)"
   ]
  },
  {
   "cell_type": "code",
   "execution_count": 2,
   "id": "a482d9f1",
   "metadata": {
    "execution": {
     "iopub.execute_input": "2024-10-30T20:49:44.931074Z",
     "iopub.status.busy": "2024-10-30T20:49:44.930062Z",
     "iopub.status.idle": "2024-10-30T20:49:45.334585Z",
     "shell.execute_reply": "2024-10-30T20:49:45.333512Z"
    },
    "papermill": {
     "duration": 0.415982,
     "end_time": "2024-10-30T20:49:45.336735",
     "exception": false,
     "start_time": "2024-10-30T20:49:44.920753",
     "status": "completed"
    },
    "tags": []
   },
   "outputs": [
    {
     "data": {
      "text/html": [
       "<div>\n",
       "<style scoped>\n",
       "    .dataframe tbody tr th:only-of-type {\n",
       "        vertical-align: middle;\n",
       "    }\n",
       "\n",
       "    .dataframe tbody tr th {\n",
       "        vertical-align: top;\n",
       "    }\n",
       "\n",
       "    .dataframe thead th {\n",
       "        text-align: right;\n",
       "    }\n",
       "</style>\n",
       "<table border=\"1\" class=\"dataframe\">\n",
       "  <thead>\n",
       "    <tr style=\"text-align: right;\">\n",
       "      <th></th>\n",
       "      <th>State</th>\n",
       "      <th>Gender</th>\n",
       "      <th>Year</th>\n",
       "      <th>Name</th>\n",
       "      <th>Count</th>\n",
       "    </tr>\n",
       "  </thead>\n",
       "  <tbody>\n",
       "    <tr>\n",
       "      <th>0</th>\n",
       "      <td>CA</td>\n",
       "      <td>F</td>\n",
       "      <td>1910</td>\n",
       "      <td>Mary</td>\n",
       "      <td>295</td>\n",
       "    </tr>\n",
       "    <tr>\n",
       "      <th>1</th>\n",
       "      <td>CA</td>\n",
       "      <td>F</td>\n",
       "      <td>1910</td>\n",
       "      <td>Helen</td>\n",
       "      <td>239</td>\n",
       "    </tr>\n",
       "    <tr>\n",
       "      <th>2</th>\n",
       "      <td>CA</td>\n",
       "      <td>F</td>\n",
       "      <td>1910</td>\n",
       "      <td>Dorothy</td>\n",
       "      <td>220</td>\n",
       "    </tr>\n",
       "    <tr>\n",
       "      <th>3</th>\n",
       "      <td>CA</td>\n",
       "      <td>F</td>\n",
       "      <td>1910</td>\n",
       "      <td>Margaret</td>\n",
       "      <td>163</td>\n",
       "    </tr>\n",
       "    <tr>\n",
       "      <th>4</th>\n",
       "      <td>CA</td>\n",
       "      <td>F</td>\n",
       "      <td>1910</td>\n",
       "      <td>Frances</td>\n",
       "      <td>134</td>\n",
       "    </tr>\n",
       "  </tbody>\n",
       "</table>\n",
       "</div>"
      ],
      "text/plain": [
       "  State Gender  Year      Name  Count\n",
       "0    CA      F  1910      Mary    295\n",
       "1    CA      F  1910     Helen    239\n",
       "2    CA      F  1910   Dorothy    220\n",
       "3    CA      F  1910  Margaret    163\n",
       "4    CA      F  1910   Frances    134"
      ]
     },
     "execution_count": 2,
     "metadata": {},
     "output_type": "execute_result"
    }
   ],
   "source": [
    "# File path to the text file\n",
    "local_filename = \"/kaggle/input/babynamesbystate-zip/CA.TXT\"\n",
    "field_names = ['State', 'Gender', 'Year', 'Name', 'Count']\n",
    "\n",
    "# Read the CSV file directly\n",
    "babynamesCA = pd.read_csv(local_filename, header=None, names=field_names)\n",
    "\n",
    "# Display the first few rows\n",
    "babynamesCA.head()"
   ]
  },
  {
   "cell_type": "markdown",
   "id": "529bee98",
   "metadata": {
    "papermill": {
     "duration": 0.008949,
     "end_time": "2024-10-30T20:49:45.354151",
     "exception": false,
     "start_time": "2024-10-30T20:49:45.345202",
     "status": "completed"
    },
    "tags": []
   },
   "source": [
    "**Question 1: Retrieve all records for the state 'CA' (California) from the `babynames` dataframe.**"
   ]
  },
  {
   "cell_type": "code",
   "execution_count": 3,
   "id": "db7fff27",
   "metadata": {
    "execution": {
     "iopub.execute_input": "2024-10-30T20:49:45.372729Z",
     "iopub.status.busy": "2024-10-30T20:49:45.371861Z",
     "iopub.status.idle": "2024-10-30T20:49:45.382748Z",
     "shell.execute_reply": "2024-10-30T20:49:45.381772Z"
    },
    "papermill": {
     "duration": 0.022644,
     "end_time": "2024-10-30T20:49:45.384868",
     "exception": false,
     "start_time": "2024-10-30T20:49:45.362224",
     "status": "completed"
    },
    "tags": []
   },
   "outputs": [
    {
     "data": {
      "text/html": [
       "<div>\n",
       "<style scoped>\n",
       "    .dataframe tbody tr th:only-of-type {\n",
       "        vertical-align: middle;\n",
       "    }\n",
       "\n",
       "    .dataframe tbody tr th {\n",
       "        vertical-align: top;\n",
       "    }\n",
       "\n",
       "    .dataframe thead th {\n",
       "        text-align: right;\n",
       "    }\n",
       "</style>\n",
       "<table border=\"1\" class=\"dataframe\">\n",
       "  <thead>\n",
       "    <tr style=\"text-align: right;\">\n",
       "      <th></th>\n",
       "      <th>State</th>\n",
       "      <th>Gender</th>\n",
       "      <th>Year</th>\n",
       "      <th>Name</th>\n",
       "      <th>Count</th>\n",
       "    </tr>\n",
       "  </thead>\n",
       "  <tbody>\n",
       "    <tr>\n",
       "      <th>0</th>\n",
       "      <td>CA</td>\n",
       "      <td>F</td>\n",
       "      <td>1910</td>\n",
       "      <td>Mary</td>\n",
       "      <td>295</td>\n",
       "    </tr>\n",
       "    <tr>\n",
       "      <th>1</th>\n",
       "      <td>CA</td>\n",
       "      <td>F</td>\n",
       "      <td>1910</td>\n",
       "      <td>Helen</td>\n",
       "      <td>239</td>\n",
       "    </tr>\n",
       "    <tr>\n",
       "      <th>2</th>\n",
       "      <td>CA</td>\n",
       "      <td>F</td>\n",
       "      <td>1910</td>\n",
       "      <td>Dorothy</td>\n",
       "      <td>220</td>\n",
       "    </tr>\n",
       "    <tr>\n",
       "      <th>3</th>\n",
       "      <td>CA</td>\n",
       "      <td>F</td>\n",
       "      <td>1910</td>\n",
       "      <td>Margaret</td>\n",
       "      <td>163</td>\n",
       "    </tr>\n",
       "    <tr>\n",
       "      <th>4</th>\n",
       "      <td>CA</td>\n",
       "      <td>F</td>\n",
       "      <td>1910</td>\n",
       "      <td>Frances</td>\n",
       "      <td>134</td>\n",
       "    </tr>\n",
       "  </tbody>\n",
       "</table>\n",
       "</div>"
      ],
      "text/plain": [
       "  State Gender  Year      Name  Count\n",
       "0    CA      F  1910      Mary    295\n",
       "1    CA      F  1910     Helen    239\n",
       "2    CA      F  1910   Dorothy    220\n",
       "3    CA      F  1910  Margaret    163\n",
       "4    CA      F  1910   Frances    134"
      ]
     },
     "execution_count": 3,
     "metadata": {},
     "output_type": "execute_result"
    }
   ],
   "source": [
    "babynamesCA.head()"
   ]
  },
  {
   "cell_type": "markdown",
   "id": "8f1a9aaf",
   "metadata": {
    "papermill": {
     "duration": 0.008111,
     "end_time": "2024-10-30T20:49:45.401396",
     "exception": false,
     "start_time": "2024-10-30T20:49:45.393285",
     "status": "completed"
    },
    "tags": []
   },
   "source": [
    "**Modified Question 1: Retrieve all records for the state 'CA' from the babynames dataframe, but exclude the years 1990 and 2000.**"
   ]
  },
  {
   "cell_type": "code",
   "execution_count": 4,
   "id": "b71a0772",
   "metadata": {
    "execution": {
     "iopub.execute_input": "2024-10-30T20:49:45.419848Z",
     "iopub.status.busy": "2024-10-30T20:49:45.419444Z",
     "iopub.status.idle": "2024-10-30T20:49:45.492247Z",
     "shell.execute_reply": "2024-10-30T20:49:45.491268Z"
    },
    "papermill": {
     "duration": 0.084615,
     "end_time": "2024-10-30T20:49:45.494476",
     "exception": false,
     "start_time": "2024-10-30T20:49:45.409861",
     "status": "completed"
    },
    "tags": []
   },
   "outputs": [
    {
     "data": {
      "text/html": [
       "<div>\n",
       "<style scoped>\n",
       "    .dataframe tbody tr th:only-of-type {\n",
       "        vertical-align: middle;\n",
       "    }\n",
       "\n",
       "    .dataframe tbody tr th {\n",
       "        vertical-align: top;\n",
       "    }\n",
       "\n",
       "    .dataframe thead th {\n",
       "        text-align: right;\n",
       "    }\n",
       "</style>\n",
       "<table border=\"1\" class=\"dataframe\">\n",
       "  <thead>\n",
       "    <tr style=\"text-align: right;\">\n",
       "      <th></th>\n",
       "      <th>State</th>\n",
       "      <th>Gender</th>\n",
       "      <th>Year</th>\n",
       "      <th>Name</th>\n",
       "      <th>Count</th>\n",
       "    </tr>\n",
       "  </thead>\n",
       "  <tbody>\n",
       "    <tr>\n",
       "      <th>0</th>\n",
       "      <td>CA</td>\n",
       "      <td>F</td>\n",
       "      <td>1910</td>\n",
       "      <td>Mary</td>\n",
       "      <td>295</td>\n",
       "    </tr>\n",
       "    <tr>\n",
       "      <th>1</th>\n",
       "      <td>CA</td>\n",
       "      <td>F</td>\n",
       "      <td>1910</td>\n",
       "      <td>Helen</td>\n",
       "      <td>239</td>\n",
       "    </tr>\n",
       "    <tr>\n",
       "      <th>2</th>\n",
       "      <td>CA</td>\n",
       "      <td>F</td>\n",
       "      <td>1910</td>\n",
       "      <td>Dorothy</td>\n",
       "      <td>220</td>\n",
       "    </tr>\n",
       "    <tr>\n",
       "      <th>3</th>\n",
       "      <td>CA</td>\n",
       "      <td>F</td>\n",
       "      <td>1910</td>\n",
       "      <td>Margaret</td>\n",
       "      <td>163</td>\n",
       "    </tr>\n",
       "    <tr>\n",
       "      <th>4</th>\n",
       "      <td>CA</td>\n",
       "      <td>F</td>\n",
       "      <td>1910</td>\n",
       "      <td>Frances</td>\n",
       "      <td>134</td>\n",
       "    </tr>\n",
       "  </tbody>\n",
       "</table>\n",
       "</div>"
      ],
      "text/plain": [
       "  State Gender  Year      Name  Count\n",
       "0    CA      F  1910      Mary    295\n",
       "1    CA      F  1910     Helen    239\n",
       "2    CA      F  1910   Dorothy    220\n",
       "3    CA      F  1910  Margaret    163\n",
       "4    CA      F  1910   Frances    134"
      ]
     },
     "execution_count": 4,
     "metadata": {},
     "output_type": "execute_result"
    }
   ],
   "source": [
    "arr = babynamesCA[\n",
    "    (~babynamesCA['Year'].isin([1990 ,2000])) &\n",
    "    (babynamesCA['State'] == 'CA')\n",
    "].head()\n",
    "\n",
    "arr"
   ]
  },
  {
   "cell_type": "markdown",
   "id": "ffc6e1cd",
   "metadata": {
    "papermill": {
     "duration": 0.008245,
     "end_time": "2024-10-30T20:49:45.511394",
     "exception": false,
     "start_time": "2024-10-30T20:49:45.503149",
     "status": "completed"
    },
    "tags": []
   },
   "source": [
    "**Question 2: Find all baby names in California for the year 2000.**"
   ]
  },
  {
   "cell_type": "code",
   "execution_count": 5,
   "id": "3caf333a",
   "metadata": {
    "execution": {
     "iopub.execute_input": "2024-10-30T20:49:45.530307Z",
     "iopub.status.busy": "2024-10-30T20:49:45.529915Z",
     "iopub.status.idle": "2024-10-30T20:49:45.546304Z",
     "shell.execute_reply": "2024-10-30T20:49:45.545303Z"
    },
    "papermill": {
     "duration": 0.028782,
     "end_time": "2024-10-30T20:49:45.548590",
     "exception": false,
     "start_time": "2024-10-30T20:49:45.519808",
     "status": "completed"
    },
    "tags": []
   },
   "outputs": [
    {
     "data": {
      "text/html": [
       "<div>\n",
       "<style scoped>\n",
       "    .dataframe tbody tr th:only-of-type {\n",
       "        vertical-align: middle;\n",
       "    }\n",
       "\n",
       "    .dataframe tbody tr th {\n",
       "        vertical-align: top;\n",
       "    }\n",
       "\n",
       "    .dataframe thead th {\n",
       "        text-align: right;\n",
       "    }\n",
       "</style>\n",
       "<table border=\"1\" class=\"dataframe\">\n",
       "  <thead>\n",
       "    <tr style=\"text-align: right;\">\n",
       "      <th></th>\n",
       "      <th>Name</th>\n",
       "      <th>Year</th>\n",
       "    </tr>\n",
       "  </thead>\n",
       "  <tbody>\n",
       "    <tr>\n",
       "      <th>149062</th>\n",
       "      <td>Emily</td>\n",
       "      <td>2000</td>\n",
       "    </tr>\n",
       "    <tr>\n",
       "      <th>149063</th>\n",
       "      <td>Ashley</td>\n",
       "      <td>2000</td>\n",
       "    </tr>\n",
       "    <tr>\n",
       "      <th>149064</th>\n",
       "      <td>Samantha</td>\n",
       "      <td>2000</td>\n",
       "    </tr>\n",
       "    <tr>\n",
       "      <th>149065</th>\n",
       "      <td>Jessica</td>\n",
       "      <td>2000</td>\n",
       "    </tr>\n",
       "    <tr>\n",
       "      <th>149066</th>\n",
       "      <td>Jennifer</td>\n",
       "      <td>2000</td>\n",
       "    </tr>\n",
       "    <tr>\n",
       "      <th>...</th>\n",
       "      <td>...</td>\n",
       "      <td>...</td>\n",
       "    </tr>\n",
       "    <tr>\n",
       "      <th>348605</th>\n",
       "      <td>Zarek</td>\n",
       "      <td>2000</td>\n",
       "    </tr>\n",
       "    <tr>\n",
       "      <th>348606</th>\n",
       "      <td>Zen</td>\n",
       "      <td>2000</td>\n",
       "    </tr>\n",
       "    <tr>\n",
       "      <th>348607</th>\n",
       "      <td>Zenon</td>\n",
       "      <td>2000</td>\n",
       "    </tr>\n",
       "    <tr>\n",
       "      <th>348608</th>\n",
       "      <td>Zuriel</td>\n",
       "      <td>2000</td>\n",
       "    </tr>\n",
       "    <tr>\n",
       "      <th>348609</th>\n",
       "      <td>Zyon</td>\n",
       "      <td>2000</td>\n",
       "    </tr>\n",
       "  </tbody>\n",
       "</table>\n",
       "<p>6285 rows × 2 columns</p>\n",
       "</div>"
      ],
      "text/plain": [
       "            Name  Year\n",
       "149062     Emily  2000\n",
       "149063    Ashley  2000\n",
       "149064  Samantha  2000\n",
       "149065   Jessica  2000\n",
       "149066  Jennifer  2000\n",
       "...          ...   ...\n",
       "348605     Zarek  2000\n",
       "348606       Zen  2000\n",
       "348607     Zenon  2000\n",
       "348608    Zuriel  2000\n",
       "348609      Zyon  2000\n",
       "\n",
       "[6285 rows x 2 columns]"
      ]
     },
     "execution_count": 5,
     "metadata": {},
     "output_type": "execute_result"
    }
   ],
   "source": [
    "names = babynamesCA[babynamesCA['Year']==2000].loc[:,['Name','Year']]\n",
    "names"
   ]
  },
  {
   "cell_type": "markdown",
   "id": "b645c4ed",
   "metadata": {
    "papermill": {
     "duration": 0.008453,
     "end_time": "2024-10-30T20:49:45.565890",
     "exception": false,
     "start_time": "2024-10-30T20:49:45.557437",
     "status": "completed"
    },
    "tags": []
   },
   "source": [
    "**Modified Question 2: Find all baby names in California for the year 2000 and sort them in descending order based on the number of occurrences.**"
   ]
  },
  {
   "cell_type": "code",
   "execution_count": 6,
   "id": "59d5e123",
   "metadata": {
    "execution": {
     "iopub.execute_input": "2024-10-30T20:49:45.585591Z",
     "iopub.status.busy": "2024-10-30T20:49:45.584681Z",
     "iopub.status.idle": "2024-10-30T20:49:45.602517Z",
     "shell.execute_reply": "2024-10-30T20:49:45.601473Z"
    },
    "papermill": {
     "duration": 0.030105,
     "end_time": "2024-10-30T20:49:45.604833",
     "exception": false,
     "start_time": "2024-10-30T20:49:45.574728",
     "status": "completed"
    },
    "tags": []
   },
   "outputs": [
    {
     "data": {
      "text/html": [
       "<div>\n",
       "<style scoped>\n",
       "    .dataframe tbody tr th:only-of-type {\n",
       "        vertical-align: middle;\n",
       "    }\n",
       "\n",
       "    .dataframe tbody tr th {\n",
       "        vertical-align: top;\n",
       "    }\n",
       "\n",
       "    .dataframe thead th {\n",
       "        text-align: right;\n",
       "    }\n",
       "</style>\n",
       "<table border=\"1\" class=\"dataframe\">\n",
       "  <thead>\n",
       "    <tr style=\"text-align: right;\">\n",
       "      <th></th>\n",
       "      <th>Name</th>\n",
       "      <th>Count</th>\n",
       "    </tr>\n",
       "  </thead>\n",
       "  <tbody>\n",
       "    <tr>\n",
       "      <th>346093</th>\n",
       "      <td>Daniel</td>\n",
       "      <td>4342</td>\n",
       "    </tr>\n",
       "    <tr>\n",
       "      <th>346094</th>\n",
       "      <td>Anthony</td>\n",
       "      <td>3840</td>\n",
       "    </tr>\n",
       "    <tr>\n",
       "      <th>346095</th>\n",
       "      <td>Jose</td>\n",
       "      <td>3804</td>\n",
       "    </tr>\n",
       "    <tr>\n",
       "      <th>346096</th>\n",
       "      <td>Andrew</td>\n",
       "      <td>3600</td>\n",
       "    </tr>\n",
       "    <tr>\n",
       "      <th>346097</th>\n",
       "      <td>Michael</td>\n",
       "      <td>3572</td>\n",
       "    </tr>\n",
       "    <tr>\n",
       "      <th>...</th>\n",
       "      <td>...</td>\n",
       "      <td>...</td>\n",
       "    </tr>\n",
       "    <tr>\n",
       "      <th>152465</th>\n",
       "      <td>Francessca</td>\n",
       "      <td>5</td>\n",
       "    </tr>\n",
       "    <tr>\n",
       "      <th>152464</th>\n",
       "      <td>Florencia</td>\n",
       "      <td>5</td>\n",
       "    </tr>\n",
       "    <tr>\n",
       "      <th>152463</th>\n",
       "      <td>Fiorella</td>\n",
       "      <td>5</td>\n",
       "    </tr>\n",
       "    <tr>\n",
       "      <th>152462</th>\n",
       "      <td>Felicitas</td>\n",
       "      <td>5</td>\n",
       "    </tr>\n",
       "    <tr>\n",
       "      <th>348609</th>\n",
       "      <td>Zyon</td>\n",
       "      <td>5</td>\n",
       "    </tr>\n",
       "  </tbody>\n",
       "</table>\n",
       "<p>6285 rows × 2 columns</p>\n",
       "</div>"
      ],
      "text/plain": [
       "              Name  Count\n",
       "346093      Daniel   4342\n",
       "346094     Anthony   3840\n",
       "346095        Jose   3804\n",
       "346096      Andrew   3600\n",
       "346097     Michael   3572\n",
       "...            ...    ...\n",
       "152465  Francessca      5\n",
       "152464   Florencia      5\n",
       "152463    Fiorella      5\n",
       "152462   Felicitas      5\n",
       "348609        Zyon      5\n",
       "\n",
       "[6285 rows x 2 columns]"
      ]
     },
     "execution_count": 6,
     "metadata": {},
     "output_type": "execute_result"
    }
   ],
   "source": [
    "names1 = babynamesCA[babynamesCA['Year']==2000].loc[:,['Name','Count']]\n",
    "names1.sort_values(by=['Count'] , ascending=False )"
   ]
  },
  {
   "cell_type": "markdown",
   "id": "94cafbae",
   "metadata": {
    "papermill": {
     "duration": 0.008535,
     "end_time": "2024-10-30T20:49:45.622317",
     "exception": false,
     "start_time": "2024-10-30T20:49:45.613782",
     "status": "completed"
    },
    "tags": []
   },
   "source": [
    "Read the File NY.txt"
   ]
  },
  {
   "cell_type": "code",
   "execution_count": 7,
   "id": "d1fdfc15",
   "metadata": {
    "execution": {
     "iopub.execute_input": "2024-10-30T20:49:45.641776Z",
     "iopub.status.busy": "2024-10-30T20:49:45.641377Z",
     "iopub.status.idle": "2024-10-30T20:49:45.958053Z",
     "shell.execute_reply": "2024-10-30T20:49:45.956957Z"
    },
    "papermill": {
     "duration": 0.329924,
     "end_time": "2024-10-30T20:49:45.961198",
     "exception": false,
     "start_time": "2024-10-30T20:49:45.631274",
     "status": "completed"
    },
    "tags": []
   },
   "outputs": [
    {
     "data": {
      "text/html": [
       "<div>\n",
       "<style scoped>\n",
       "    .dataframe tbody tr th:only-of-type {\n",
       "        vertical-align: middle;\n",
       "    }\n",
       "\n",
       "    .dataframe tbody tr th {\n",
       "        vertical-align: top;\n",
       "    }\n",
       "\n",
       "    .dataframe thead th {\n",
       "        text-align: right;\n",
       "    }\n",
       "</style>\n",
       "<table border=\"1\" class=\"dataframe\">\n",
       "  <thead>\n",
       "    <tr style=\"text-align: right;\">\n",
       "      <th></th>\n",
       "      <th>State</th>\n",
       "      <th>Gender</th>\n",
       "      <th>Year</th>\n",
       "      <th>Name</th>\n",
       "      <th>Count</th>\n",
       "    </tr>\n",
       "  </thead>\n",
       "  <tbody>\n",
       "    <tr>\n",
       "      <th>0</th>\n",
       "      <td>NY</td>\n",
       "      <td>F</td>\n",
       "      <td>1910</td>\n",
       "      <td>Mary</td>\n",
       "      <td>1923</td>\n",
       "    </tr>\n",
       "    <tr>\n",
       "      <th>1</th>\n",
       "      <td>NY</td>\n",
       "      <td>F</td>\n",
       "      <td>1910</td>\n",
       "      <td>Helen</td>\n",
       "      <td>1290</td>\n",
       "    </tr>\n",
       "    <tr>\n",
       "      <th>2</th>\n",
       "      <td>NY</td>\n",
       "      <td>F</td>\n",
       "      <td>1910</td>\n",
       "      <td>Rose</td>\n",
       "      <td>990</td>\n",
       "    </tr>\n",
       "    <tr>\n",
       "      <th>3</th>\n",
       "      <td>NY</td>\n",
       "      <td>F</td>\n",
       "      <td>1910</td>\n",
       "      <td>Anna</td>\n",
       "      <td>951</td>\n",
       "    </tr>\n",
       "    <tr>\n",
       "      <th>4</th>\n",
       "      <td>NY</td>\n",
       "      <td>F</td>\n",
       "      <td>1910</td>\n",
       "      <td>Margaret</td>\n",
       "      <td>926</td>\n",
       "    </tr>\n",
       "  </tbody>\n",
       "</table>\n",
       "</div>"
      ],
      "text/plain": [
       "  State Gender  Year      Name  Count\n",
       "0    NY      F  1910      Mary   1923\n",
       "1    NY      F  1910     Helen   1290\n",
       "2    NY      F  1910      Rose    990\n",
       "3    NY      F  1910      Anna    951\n",
       "4    NY      F  1910  Margaret    926"
      ]
     },
     "execution_count": 7,
     "metadata": {},
     "output_type": "execute_result"
    }
   ],
   "source": [
    "# File path to the text file\n",
    "local_filename = \"/kaggle/input/babynamesbystate-zip/NY.TXT\"\n",
    "field_names = ['State', 'Gender', 'Year', 'Name', 'Count']\n",
    "\n",
    "# Read the CSV file directly\n",
    "babynamesNY = pd.read_csv(local_filename, header=None, names=field_names)\n",
    "\n",
    "# Display the first few rows\n",
    "babynamesNY.head()"
   ]
  },
  {
   "cell_type": "markdown",
   "id": "35dcff84",
   "metadata": {
    "papermill": {
     "duration": 0.008916,
     "end_time": "2024-10-30T20:49:45.979990",
     "exception": false,
     "start_time": "2024-10-30T20:49:45.971074",
     "status": "completed"
    },
    "tags": []
   },
   "source": [
    "**Question 3: Get all female baby names for the state of New York ('NY') from the year 1995.**"
   ]
  },
  {
   "cell_type": "code",
   "execution_count": 8,
   "id": "b3a10b8d",
   "metadata": {
    "execution": {
     "iopub.execute_input": "2024-10-30T20:49:45.999790Z",
     "iopub.status.busy": "2024-10-30T20:49:45.999401Z",
     "iopub.status.idle": "2024-10-30T20:49:46.041280Z",
     "shell.execute_reply": "2024-10-30T20:49:46.040332Z"
    },
    "papermill": {
     "duration": 0.054339,
     "end_time": "2024-10-30T20:49:46.043478",
     "exception": false,
     "start_time": "2024-10-30T20:49:45.989139",
     "status": "completed"
    },
    "tags": []
   },
   "outputs": [
    {
     "data": {
      "text/html": [
       "<div>\n",
       "<style scoped>\n",
       "    .dataframe tbody tr th:only-of-type {\n",
       "        vertical-align: middle;\n",
       "    }\n",
       "\n",
       "    .dataframe tbody tr th {\n",
       "        vertical-align: top;\n",
       "    }\n",
       "\n",
       "    .dataframe thead th {\n",
       "        text-align: right;\n",
       "    }\n",
       "</style>\n",
       "<table border=\"1\" class=\"dataframe\">\n",
       "  <thead>\n",
       "    <tr style=\"text-align: right;\">\n",
       "      <th></th>\n",
       "      <th>State</th>\n",
       "      <th>Gender</th>\n",
       "      <th>Year</th>\n",
       "      <th>Name</th>\n",
       "      <th>Count</th>\n",
       "    </tr>\n",
       "  </thead>\n",
       "  <tbody>\n",
       "    <tr>\n",
       "      <th>51771</th>\n",
       "      <td>NY</td>\n",
       "      <td>F</td>\n",
       "      <td>1965</td>\n",
       "      <td>Lisa</td>\n",
       "      <td>5612</td>\n",
       "    </tr>\n",
       "    <tr>\n",
       "      <th>51772</th>\n",
       "      <td>NY</td>\n",
       "      <td>F</td>\n",
       "      <td>1965</td>\n",
       "      <td>Mary</td>\n",
       "      <td>3077</td>\n",
       "    </tr>\n",
       "    <tr>\n",
       "      <th>51773</th>\n",
       "      <td>NY</td>\n",
       "      <td>F</td>\n",
       "      <td>1965</td>\n",
       "      <td>Karen</td>\n",
       "      <td>3033</td>\n",
       "    </tr>\n",
       "    <tr>\n",
       "      <th>51774</th>\n",
       "      <td>NY</td>\n",
       "      <td>F</td>\n",
       "      <td>1965</td>\n",
       "      <td>Susan</td>\n",
       "      <td>2780</td>\n",
       "    </tr>\n",
       "    <tr>\n",
       "      <th>51775</th>\n",
       "      <td>NY</td>\n",
       "      <td>F</td>\n",
       "      <td>1965</td>\n",
       "      <td>Patricia</td>\n",
       "      <td>2633</td>\n",
       "    </tr>\n",
       "    <tr>\n",
       "      <th>...</th>\n",
       "      <td>...</td>\n",
       "      <td>...</td>\n",
       "      <td>...</td>\n",
       "      <td>...</td>\n",
       "      <td>...</td>\n",
       "    </tr>\n",
       "    <tr>\n",
       "      <th>181234</th>\n",
       "      <td>NY</td>\n",
       "      <td>F</td>\n",
       "      <td>2023</td>\n",
       "      <td>Zenobia</td>\n",
       "      <td>5</td>\n",
       "    </tr>\n",
       "    <tr>\n",
       "      <th>181235</th>\n",
       "      <td>NY</td>\n",
       "      <td>F</td>\n",
       "      <td>2023</td>\n",
       "      <td>Zeynab</td>\n",
       "      <td>5</td>\n",
       "    </tr>\n",
       "    <tr>\n",
       "      <th>181236</th>\n",
       "      <td>NY</td>\n",
       "      <td>F</td>\n",
       "      <td>2023</td>\n",
       "      <td>Zion</td>\n",
       "      <td>5</td>\n",
       "    </tr>\n",
       "    <tr>\n",
       "      <th>181237</th>\n",
       "      <td>NY</td>\n",
       "      <td>F</td>\n",
       "      <td>2023</td>\n",
       "      <td>Zohra</td>\n",
       "      <td>5</td>\n",
       "    </tr>\n",
       "    <tr>\n",
       "      <th>181238</th>\n",
       "      <td>NY</td>\n",
       "      <td>F</td>\n",
       "      <td>2023</td>\n",
       "      <td>Zunaisha</td>\n",
       "      <td>5</td>\n",
       "    </tr>\n",
       "  </tbody>\n",
       "</table>\n",
       "<p>129468 rows × 5 columns</p>\n",
       "</div>"
      ],
      "text/plain": [
       "       State Gender  Year      Name  Count\n",
       "51771     NY      F  1965      Lisa   5612\n",
       "51772     NY      F  1965      Mary   3077\n",
       "51773     NY      F  1965     Karen   3033\n",
       "51774     NY      F  1965     Susan   2780\n",
       "51775     NY      F  1965  Patricia   2633\n",
       "...      ...    ...   ...       ...    ...\n",
       "181234    NY      F  2023   Zenobia      5\n",
       "181235    NY      F  2023    Zeynab      5\n",
       "181236    NY      F  2023      Zion      5\n",
       "181237    NY      F  2023     Zohra      5\n",
       "181238    NY      F  2023  Zunaisha      5\n",
       "\n",
       "[129468 rows x 5 columns]"
      ]
     },
     "execution_count": 8,
     "metadata": {},
     "output_type": "execute_result"
    }
   ],
   "source": [
    "female_names = babynamesNY[(babynamesNY['Gender'] == 'F') & (babynamesNY['Year'] >= 1965)]\n",
    "female_names"
   ]
  },
  {
   "cell_type": "markdown",
   "id": "5996f531",
   "metadata": {
    "papermill": {
     "duration": 0.008911,
     "end_time": "2024-10-30T20:49:46.061753",
     "exception": false,
     "start_time": "2024-10-30T20:49:46.052842",
     "status": "completed"
    },
    "tags": []
   },
   "source": [
    "**Modified Question 3: Get the top 10 female baby names in New York ('NY') from the year 1995 with the highest counts.**"
   ]
  },
  {
   "cell_type": "code",
   "execution_count": 9,
   "id": "b4ea3642",
   "metadata": {
    "execution": {
     "iopub.execute_input": "2024-10-30T20:49:46.081896Z",
     "iopub.status.busy": "2024-10-30T20:49:46.081470Z",
     "iopub.status.idle": "2024-10-30T20:49:46.106507Z",
     "shell.execute_reply": "2024-10-30T20:49:46.105269Z"
    },
    "papermill": {
     "duration": 0.037734,
     "end_time": "2024-10-30T20:49:46.108716",
     "exception": false,
     "start_time": "2024-10-30T20:49:46.070982",
     "status": "completed"
    },
    "tags": []
   },
   "outputs": [
    {
     "data": {
      "text/html": [
       "<div>\n",
       "<style scoped>\n",
       "    .dataframe tbody tr th:only-of-type {\n",
       "        vertical-align: middle;\n",
       "    }\n",
       "\n",
       "    .dataframe tbody tr th {\n",
       "        vertical-align: top;\n",
       "    }\n",
       "\n",
       "    .dataframe thead th {\n",
       "        text-align: right;\n",
       "    }\n",
       "</style>\n",
       "<table border=\"1\" class=\"dataframe\">\n",
       "  <thead>\n",
       "    <tr style=\"text-align: right;\">\n",
       "      <th></th>\n",
       "      <th>State</th>\n",
       "      <th>Gender</th>\n",
       "      <th>Year</th>\n",
       "      <th>Name</th>\n",
       "      <th>Count</th>\n",
       "    </tr>\n",
       "  </thead>\n",
       "  <tbody>\n",
       "    <tr>\n",
       "      <th>51771</th>\n",
       "      <td>NY</td>\n",
       "      <td>F</td>\n",
       "      <td>1965</td>\n",
       "      <td>Lisa</td>\n",
       "      <td>5612</td>\n",
       "    </tr>\n",
       "    <tr>\n",
       "      <th>63545</th>\n",
       "      <td>NY</td>\n",
       "      <td>F</td>\n",
       "      <td>1972</td>\n",
       "      <td>Jennifer</td>\n",
       "      <td>5523</td>\n",
       "    </tr>\n",
       "    <tr>\n",
       "      <th>53330</th>\n",
       "      <td>NY</td>\n",
       "      <td>F</td>\n",
       "      <td>1966</td>\n",
       "      <td>Lisa</td>\n",
       "      <td>5144</td>\n",
       "    </tr>\n",
       "    <tr>\n",
       "      <th>61750</th>\n",
       "      <td>NY</td>\n",
       "      <td>F</td>\n",
       "      <td>1971</td>\n",
       "      <td>Jennifer</td>\n",
       "      <td>4962</td>\n",
       "    </tr>\n",
       "    <tr>\n",
       "      <th>65311</th>\n",
       "      <td>NY</td>\n",
       "      <td>F</td>\n",
       "      <td>1973</td>\n",
       "      <td>Jennifer</td>\n",
       "      <td>4955</td>\n",
       "    </tr>\n",
       "    <tr>\n",
       "      <th>67072</th>\n",
       "      <td>NY</td>\n",
       "      <td>F</td>\n",
       "      <td>1974</td>\n",
       "      <td>Jennifer</td>\n",
       "      <td>4921</td>\n",
       "    </tr>\n",
       "    <tr>\n",
       "      <th>54910</th>\n",
       "      <td>NY</td>\n",
       "      <td>F</td>\n",
       "      <td>1967</td>\n",
       "      <td>Lisa</td>\n",
       "      <td>4825</td>\n",
       "    </tr>\n",
       "    <tr>\n",
       "      <th>56517</th>\n",
       "      <td>NY</td>\n",
       "      <td>F</td>\n",
       "      <td>1968</td>\n",
       "      <td>Lisa</td>\n",
       "      <td>4435</td>\n",
       "    </tr>\n",
       "    <tr>\n",
       "      <th>70721</th>\n",
       "      <td>NY</td>\n",
       "      <td>F</td>\n",
       "      <td>1976</td>\n",
       "      <td>Jennifer</td>\n",
       "      <td>4254</td>\n",
       "    </tr>\n",
       "    <tr>\n",
       "      <th>59908</th>\n",
       "      <td>NY</td>\n",
       "      <td>F</td>\n",
       "      <td>1970</td>\n",
       "      <td>Jennifer</td>\n",
       "      <td>4203</td>\n",
       "    </tr>\n",
       "  </tbody>\n",
       "</table>\n",
       "</div>"
      ],
      "text/plain": [
       "      State Gender  Year      Name  Count\n",
       "51771    NY      F  1965      Lisa   5612\n",
       "63545    NY      F  1972  Jennifer   5523\n",
       "53330    NY      F  1966      Lisa   5144\n",
       "61750    NY      F  1971  Jennifer   4962\n",
       "65311    NY      F  1973  Jennifer   4955\n",
       "67072    NY      F  1974  Jennifer   4921\n",
       "54910    NY      F  1967      Lisa   4825\n",
       "56517    NY      F  1968      Lisa   4435\n",
       "70721    NY      F  1976  Jennifer   4254\n",
       "59908    NY      F  1970  Jennifer   4203"
      ]
     },
     "execution_count": 9,
     "metadata": {},
     "output_type": "execute_result"
    }
   ],
   "source": [
    "female_names.sort_values(by=['Count'] , ascending = False).head(10)"
   ]
  },
  {
   "cell_type": "markdown",
   "id": "21dfe675",
   "metadata": {
    "papermill": {
     "duration": 0.009386,
     "end_time": "2024-10-30T20:49:46.127954",
     "exception": false,
     "start_time": "2024-10-30T20:49:46.118568",
     "status": "completed"
    },
    "tags": []
   },
   "source": [
    "# ****You can solve following question for any State (if state is not mentioned)****"
   ]
  },
  {
   "cell_type": "markdown",
   "id": "e63034a2",
   "metadata": {
    "papermill": {
     "duration": 0.009165,
     "end_time": "2024-10-30T20:49:46.146882",
     "exception": false,
     "start_time": "2024-10-30T20:49:46.137717",
     "status": "completed"
    },
    "tags": []
   },
   "source": [
    "**Question 4: Select the first 10 rows from the `babynames` dataframe.**"
   ]
  },
  {
   "cell_type": "code",
   "execution_count": 10,
   "id": "37e047e9",
   "metadata": {
    "execution": {
     "iopub.execute_input": "2024-10-30T20:49:46.169330Z",
     "iopub.status.busy": "2024-10-30T20:49:46.168626Z",
     "iopub.status.idle": "2024-10-30T20:49:46.181611Z",
     "shell.execute_reply": "2024-10-30T20:49:46.180605Z"
    },
    "papermill": {
     "duration": 0.027189,
     "end_time": "2024-10-30T20:49:46.183671",
     "exception": false,
     "start_time": "2024-10-30T20:49:46.156482",
     "status": "completed"
    },
    "tags": []
   },
   "outputs": [
    {
     "data": {
      "text/html": [
       "<div>\n",
       "<style scoped>\n",
       "    .dataframe tbody tr th:only-of-type {\n",
       "        vertical-align: middle;\n",
       "    }\n",
       "\n",
       "    .dataframe tbody tr th {\n",
       "        vertical-align: top;\n",
       "    }\n",
       "\n",
       "    .dataframe thead th {\n",
       "        text-align: right;\n",
       "    }\n",
       "</style>\n",
       "<table border=\"1\" class=\"dataframe\">\n",
       "  <thead>\n",
       "    <tr style=\"text-align: right;\">\n",
       "      <th></th>\n",
       "      <th>State</th>\n",
       "      <th>Gender</th>\n",
       "      <th>Year</th>\n",
       "      <th>Name</th>\n",
       "      <th>Count</th>\n",
       "    </tr>\n",
       "  </thead>\n",
       "  <tbody>\n",
       "    <tr>\n",
       "      <th>0</th>\n",
       "      <td>NY</td>\n",
       "      <td>F</td>\n",
       "      <td>1910</td>\n",
       "      <td>Mary</td>\n",
       "      <td>1923</td>\n",
       "    </tr>\n",
       "    <tr>\n",
       "      <th>1</th>\n",
       "      <td>NY</td>\n",
       "      <td>F</td>\n",
       "      <td>1910</td>\n",
       "      <td>Helen</td>\n",
       "      <td>1290</td>\n",
       "    </tr>\n",
       "    <tr>\n",
       "      <th>2</th>\n",
       "      <td>NY</td>\n",
       "      <td>F</td>\n",
       "      <td>1910</td>\n",
       "      <td>Rose</td>\n",
       "      <td>990</td>\n",
       "    </tr>\n",
       "    <tr>\n",
       "      <th>3</th>\n",
       "      <td>NY</td>\n",
       "      <td>F</td>\n",
       "      <td>1910</td>\n",
       "      <td>Anna</td>\n",
       "      <td>951</td>\n",
       "    </tr>\n",
       "    <tr>\n",
       "      <th>4</th>\n",
       "      <td>NY</td>\n",
       "      <td>F</td>\n",
       "      <td>1910</td>\n",
       "      <td>Margaret</td>\n",
       "      <td>926</td>\n",
       "    </tr>\n",
       "    <tr>\n",
       "      <th>5</th>\n",
       "      <td>NY</td>\n",
       "      <td>F</td>\n",
       "      <td>1910</td>\n",
       "      <td>Dorothy</td>\n",
       "      <td>897</td>\n",
       "    </tr>\n",
       "    <tr>\n",
       "      <th>6</th>\n",
       "      <td>NY</td>\n",
       "      <td>F</td>\n",
       "      <td>1910</td>\n",
       "      <td>Ruth</td>\n",
       "      <td>713</td>\n",
       "    </tr>\n",
       "    <tr>\n",
       "      <th>7</th>\n",
       "      <td>NY</td>\n",
       "      <td>F</td>\n",
       "      <td>1910</td>\n",
       "      <td>Lillian</td>\n",
       "      <td>648</td>\n",
       "    </tr>\n",
       "    <tr>\n",
       "      <th>8</th>\n",
       "      <td>NY</td>\n",
       "      <td>F</td>\n",
       "      <td>1910</td>\n",
       "      <td>Florence</td>\n",
       "      <td>604</td>\n",
       "    </tr>\n",
       "    <tr>\n",
       "      <th>9</th>\n",
       "      <td>NY</td>\n",
       "      <td>F</td>\n",
       "      <td>1910</td>\n",
       "      <td>Frances</td>\n",
       "      <td>589</td>\n",
       "    </tr>\n",
       "    <tr>\n",
       "      <th>10</th>\n",
       "      <td>NY</td>\n",
       "      <td>F</td>\n",
       "      <td>1910</td>\n",
       "      <td>Elizabeth</td>\n",
       "      <td>579</td>\n",
       "    </tr>\n",
       "  </tbody>\n",
       "</table>\n",
       "</div>"
      ],
      "text/plain": [
       "   State Gender  Year       Name  Count\n",
       "0     NY      F  1910       Mary   1923\n",
       "1     NY      F  1910      Helen   1290\n",
       "2     NY      F  1910       Rose    990\n",
       "3     NY      F  1910       Anna    951\n",
       "4     NY      F  1910   Margaret    926\n",
       "5     NY      F  1910    Dorothy    897\n",
       "6     NY      F  1910       Ruth    713\n",
       "7     NY      F  1910    Lillian    648\n",
       "8     NY      F  1910   Florence    604\n",
       "9     NY      F  1910    Frances    589\n",
       "10    NY      F  1910  Elizabeth    579"
      ]
     },
     "execution_count": 10,
     "metadata": {},
     "output_type": "execute_result"
    }
   ],
   "source": [
    "def ten_rows(df):\n",
    "    return df.loc[0:10]\n",
    "\n",
    "# ten_rows(babynamesCA)\n",
    "ten_rows(babynamesNY)"
   ]
  },
  {
   "cell_type": "markdown",
   "id": "9ee3e472",
   "metadata": {
    "papermill": {
     "duration": 0.009722,
     "end_time": "2024-10-30T20:49:46.203472",
     "exception": false,
     "start_time": "2024-10-30T20:49:46.193750",
     "status": "completed"
    },
    "tags": []
   },
   "source": [
    "**Modified Question 4: Select the first 20 rows and only include those rows where the baby count is even.**"
   ]
  },
  {
   "cell_type": "code",
   "execution_count": 11,
   "id": "e003b650",
   "metadata": {
    "execution": {
     "iopub.execute_input": "2024-10-30T20:49:46.224931Z",
     "iopub.status.busy": "2024-10-30T20:49:46.224485Z",
     "iopub.status.idle": "2024-10-30T20:49:46.254818Z",
     "shell.execute_reply": "2024-10-30T20:49:46.253730Z"
    },
    "papermill": {
     "duration": 0.043859,
     "end_time": "2024-10-30T20:49:46.257400",
     "exception": false,
     "start_time": "2024-10-30T20:49:46.213541",
     "status": "completed"
    },
    "tags": []
   },
   "outputs": [
    {
     "data": {
      "text/html": [
       "<div>\n",
       "<style scoped>\n",
       "    .dataframe tbody tr th:only-of-type {\n",
       "        vertical-align: middle;\n",
       "    }\n",
       "\n",
       "    .dataframe tbody tr th {\n",
       "        vertical-align: top;\n",
       "    }\n",
       "\n",
       "    .dataframe thead th {\n",
       "        text-align: right;\n",
       "    }\n",
       "</style>\n",
       "<table border=\"1\" class=\"dataframe\">\n",
       "  <thead>\n",
       "    <tr style=\"text-align: right;\">\n",
       "      <th></th>\n",
       "      <th>State</th>\n",
       "      <th>Gender</th>\n",
       "      <th>Year</th>\n",
       "      <th>Name</th>\n",
       "      <th>Count</th>\n",
       "    </tr>\n",
       "  </thead>\n",
       "  <tbody>\n",
       "    <tr>\n",
       "      <th>2</th>\n",
       "      <td>CA</td>\n",
       "      <td>F</td>\n",
       "      <td>1910</td>\n",
       "      <td>Dorothy</td>\n",
       "      <td>220</td>\n",
       "    </tr>\n",
       "    <tr>\n",
       "      <th>4</th>\n",
       "      <td>CA</td>\n",
       "      <td>F</td>\n",
       "      <td>1910</td>\n",
       "      <td>Frances</td>\n",
       "      <td>134</td>\n",
       "    </tr>\n",
       "    <tr>\n",
       "      <th>5</th>\n",
       "      <td>CA</td>\n",
       "      <td>F</td>\n",
       "      <td>1910</td>\n",
       "      <td>Ruth</td>\n",
       "      <td>128</td>\n",
       "    </tr>\n",
       "    <tr>\n",
       "      <th>6</th>\n",
       "      <td>CA</td>\n",
       "      <td>F</td>\n",
       "      <td>1910</td>\n",
       "      <td>Evelyn</td>\n",
       "      <td>126</td>\n",
       "    </tr>\n",
       "    <tr>\n",
       "      <th>7</th>\n",
       "      <td>CA</td>\n",
       "      <td>F</td>\n",
       "      <td>1910</td>\n",
       "      <td>Alice</td>\n",
       "      <td>118</td>\n",
       "    </tr>\n",
       "    <tr>\n",
       "      <th>11</th>\n",
       "      <td>CA</td>\n",
       "      <td>F</td>\n",
       "      <td>1910</td>\n",
       "      <td>Marie</td>\n",
       "      <td>90</td>\n",
       "    </tr>\n",
       "    <tr>\n",
       "      <th>12</th>\n",
       "      <td>CA</td>\n",
       "      <td>F</td>\n",
       "      <td>1910</td>\n",
       "      <td>Mildred</td>\n",
       "      <td>90</td>\n",
       "    </tr>\n",
       "    <tr>\n",
       "      <th>13</th>\n",
       "      <td>CA</td>\n",
       "      <td>F</td>\n",
       "      <td>1910</td>\n",
       "      <td>Rose</td>\n",
       "      <td>74</td>\n",
       "    </tr>\n",
       "    <tr>\n",
       "      <th>14</th>\n",
       "      <td>CA</td>\n",
       "      <td>F</td>\n",
       "      <td>1910</td>\n",
       "      <td>Hazel</td>\n",
       "      <td>68</td>\n",
       "    </tr>\n",
       "    <tr>\n",
       "      <th>16</th>\n",
       "      <td>CA</td>\n",
       "      <td>F</td>\n",
       "      <td>1910</td>\n",
       "      <td>Josephine</td>\n",
       "      <td>66</td>\n",
       "    </tr>\n",
       "    <tr>\n",
       "      <th>17</th>\n",
       "      <td>CA</td>\n",
       "      <td>F</td>\n",
       "      <td>1910</td>\n",
       "      <td>Lucille</td>\n",
       "      <td>66</td>\n",
       "    </tr>\n",
       "    <tr>\n",
       "      <th>20</th>\n",
       "      <td>CA</td>\n",
       "      <td>F</td>\n",
       "      <td>1910</td>\n",
       "      <td>Edna</td>\n",
       "      <td>62</td>\n",
       "    </tr>\n",
       "    <tr>\n",
       "      <th>21</th>\n",
       "      <td>CA</td>\n",
       "      <td>F</td>\n",
       "      <td>1910</td>\n",
       "      <td>Eleanor</td>\n",
       "      <td>60</td>\n",
       "    </tr>\n",
       "    <tr>\n",
       "      <th>22</th>\n",
       "      <td>CA</td>\n",
       "      <td>F</td>\n",
       "      <td>1910</td>\n",
       "      <td>Marjorie</td>\n",
       "      <td>60</td>\n",
       "    </tr>\n",
       "    <tr>\n",
       "      <th>25</th>\n",
       "      <td>CA</td>\n",
       "      <td>F</td>\n",
       "      <td>1910</td>\n",
       "      <td>Edith</td>\n",
       "      <td>58</td>\n",
       "    </tr>\n",
       "    <tr>\n",
       "      <th>26</th>\n",
       "      <td>CA</td>\n",
       "      <td>F</td>\n",
       "      <td>1910</td>\n",
       "      <td>Doris</td>\n",
       "      <td>56</td>\n",
       "    </tr>\n",
       "    <tr>\n",
       "      <th>27</th>\n",
       "      <td>CA</td>\n",
       "      <td>F</td>\n",
       "      <td>1910</td>\n",
       "      <td>Irene</td>\n",
       "      <td>56</td>\n",
       "    </tr>\n",
       "    <tr>\n",
       "      <th>30</th>\n",
       "      <td>CA</td>\n",
       "      <td>F</td>\n",
       "      <td>1910</td>\n",
       "      <td>Ethel</td>\n",
       "      <td>52</td>\n",
       "    </tr>\n",
       "    <tr>\n",
       "      <th>33</th>\n",
       "      <td>CA</td>\n",
       "      <td>F</td>\n",
       "      <td>1910</td>\n",
       "      <td>Esther</td>\n",
       "      <td>44</td>\n",
       "    </tr>\n",
       "    <tr>\n",
       "      <th>36</th>\n",
       "      <td>CA</td>\n",
       "      <td>F</td>\n",
       "      <td>1910</td>\n",
       "      <td>Betty</td>\n",
       "      <td>40</td>\n",
       "    </tr>\n",
       "  </tbody>\n",
       "</table>\n",
       "</div>"
      ],
      "text/plain": [
       "   State Gender  Year       Name  Count\n",
       "2     CA      F  1910    Dorothy    220\n",
       "4     CA      F  1910    Frances    134\n",
       "5     CA      F  1910       Ruth    128\n",
       "6     CA      F  1910     Evelyn    126\n",
       "7     CA      F  1910      Alice    118\n",
       "11    CA      F  1910      Marie     90\n",
       "12    CA      F  1910    Mildred     90\n",
       "13    CA      F  1910       Rose     74\n",
       "14    CA      F  1910      Hazel     68\n",
       "16    CA      F  1910  Josephine     66\n",
       "17    CA      F  1910    Lucille     66\n",
       "20    CA      F  1910       Edna     62\n",
       "21    CA      F  1910    Eleanor     60\n",
       "22    CA      F  1910   Marjorie     60\n",
       "25    CA      F  1910      Edith     58\n",
       "26    CA      F  1910      Doris     56\n",
       "27    CA      F  1910      Irene     56\n",
       "30    CA      F  1910      Ethel     52\n",
       "33    CA      F  1910     Esther     44\n",
       "36    CA      F  1910      Betty     40"
      ]
     },
     "execution_count": 11,
     "metadata": {},
     "output_type": "execute_result"
    }
   ],
   "source": [
    "def even_count(df):\n",
    "    return df[df.Count % 2 == 0][0:20]\n",
    "    \n",
    "\n",
    "# even_count(babynamesNY)\n",
    "even_count(babynamesCA)\n",
    "\n"
   ]
  },
  {
   "cell_type": "markdown",
   "id": "c1806b3f",
   "metadata": {
    "papermill": {
     "duration": 0.010432,
     "end_time": "2024-10-30T20:49:46.279082",
     "exception": false,
     "start_time": "2024-10-30T20:49:46.268650",
     "status": "completed"
    },
    "tags": []
   },
   "source": [
    "**Question 5: Retrieve the 50th to 60th rows and only display the 'State', 'Name', and 'Count' columns.**"
   ]
  },
  {
   "cell_type": "code",
   "execution_count": 12,
   "id": "09439f64",
   "metadata": {
    "execution": {
     "iopub.execute_input": "2024-10-30T20:49:46.301080Z",
     "iopub.status.busy": "2024-10-30T20:49:46.300648Z",
     "iopub.status.idle": "2024-10-30T20:49:46.312346Z",
     "shell.execute_reply": "2024-10-30T20:49:46.311376Z"
    },
    "papermill": {
     "duration": 0.025317,
     "end_time": "2024-10-30T20:49:46.314481",
     "exception": false,
     "start_time": "2024-10-30T20:49:46.289164",
     "status": "completed"
    },
    "tags": []
   },
   "outputs": [
    {
     "data": {
      "text/html": [
       "<div>\n",
       "<style scoped>\n",
       "    .dataframe tbody tr th:only-of-type {\n",
       "        vertical-align: middle;\n",
       "    }\n",
       "\n",
       "    .dataframe tbody tr th {\n",
       "        vertical-align: top;\n",
       "    }\n",
       "\n",
       "    .dataframe thead th {\n",
       "        text-align: right;\n",
       "    }\n",
       "</style>\n",
       "<table border=\"1\" class=\"dataframe\">\n",
       "  <thead>\n",
       "    <tr style=\"text-align: right;\">\n",
       "      <th></th>\n",
       "      <th>State</th>\n",
       "      <th>Name</th>\n",
       "      <th>Count</th>\n",
       "    </tr>\n",
       "  </thead>\n",
       "  <tbody>\n",
       "    <tr>\n",
       "      <th>50</th>\n",
       "      <td>CA</td>\n",
       "      <td>Myrtle</td>\n",
       "      <td>30</td>\n",
       "    </tr>\n",
       "    <tr>\n",
       "      <th>51</th>\n",
       "      <td>CA</td>\n",
       "      <td>Pauline</td>\n",
       "      <td>30</td>\n",
       "    </tr>\n",
       "    <tr>\n",
       "      <th>52</th>\n",
       "      <td>CA</td>\n",
       "      <td>Ruby</td>\n",
       "      <td>30</td>\n",
       "    </tr>\n",
       "    <tr>\n",
       "      <th>53</th>\n",
       "      <td>CA</td>\n",
       "      <td>Emma</td>\n",
       "      <td>29</td>\n",
       "    </tr>\n",
       "    <tr>\n",
       "      <th>54</th>\n",
       "      <td>CA</td>\n",
       "      <td>Eva</td>\n",
       "      <td>29</td>\n",
       "    </tr>\n",
       "    <tr>\n",
       "      <th>55</th>\n",
       "      <td>CA</td>\n",
       "      <td>Genevieve</td>\n",
       "      <td>29</td>\n",
       "    </tr>\n",
       "    <tr>\n",
       "      <th>56</th>\n",
       "      <td>CA</td>\n",
       "      <td>Sarah</td>\n",
       "      <td>29</td>\n",
       "    </tr>\n",
       "    <tr>\n",
       "      <th>57</th>\n",
       "      <td>CA</td>\n",
       "      <td>Anita</td>\n",
       "      <td>28</td>\n",
       "    </tr>\n",
       "    <tr>\n",
       "      <th>58</th>\n",
       "      <td>CA</td>\n",
       "      <td>Ida</td>\n",
       "      <td>28</td>\n",
       "    </tr>\n",
       "    <tr>\n",
       "      <th>59</th>\n",
       "      <td>CA</td>\n",
       "      <td>Julia</td>\n",
       "      <td>28</td>\n",
       "    </tr>\n",
       "  </tbody>\n",
       "</table>\n",
       "</div>"
      ],
      "text/plain": [
       "   State       Name  Count\n",
       "50    CA     Myrtle     30\n",
       "51    CA    Pauline     30\n",
       "52    CA       Ruby     30\n",
       "53    CA       Emma     29\n",
       "54    CA        Eva     29\n",
       "55    CA  Genevieve     29\n",
       "56    CA      Sarah     29\n",
       "57    CA      Anita     28\n",
       "58    CA        Ida     28\n",
       "59    CA      Julia     28"
      ]
     },
     "execution_count": 12,
     "metadata": {},
     "output_type": "execute_result"
    }
   ],
   "source": [
    "babynamesCA.iloc[50:60][['State', 'Name', 'Count']]"
   ]
  },
  {
   "cell_type": "markdown",
   "id": "c55e5272",
   "metadata": {
    "papermill": {
     "duration": 0.009886,
     "end_time": "2024-10-30T20:49:46.334647",
     "exception": false,
     "start_time": "2024-10-30T20:49:46.324761",
     "status": "completed"
    },
    "tags": []
   },
   "source": [
    "**Modified Question 5: Retrieve rows from 50 to 100, but only display the rows where the count is greater than 500 and include only the 'State', 'Name', and 'Count' columns.**"
   ]
  },
  {
   "cell_type": "code",
   "execution_count": 13,
   "id": "43d3624d",
   "metadata": {
    "execution": {
     "iopub.execute_input": "2024-10-30T20:49:46.356739Z",
     "iopub.status.busy": "2024-10-30T20:49:46.356328Z",
     "iopub.status.idle": "2024-10-30T20:49:46.368393Z",
     "shell.execute_reply": "2024-10-30T20:49:46.367361Z"
    },
    "papermill": {
     "duration": 0.025698,
     "end_time": "2024-10-30T20:49:46.370626",
     "exception": false,
     "start_time": "2024-10-30T20:49:46.344928",
     "status": "completed"
    },
    "tags": []
   },
   "outputs": [
    {
     "data": {
      "text/html": [
       "<div>\n",
       "<style scoped>\n",
       "    .dataframe tbody tr th:only-of-type {\n",
       "        vertical-align: middle;\n",
       "    }\n",
       "\n",
       "    .dataframe tbody tr th {\n",
       "        vertical-align: top;\n",
       "    }\n",
       "\n",
       "    .dataframe thead th {\n",
       "        text-align: right;\n",
       "    }\n",
       "</style>\n",
       "<table border=\"1\" class=\"dataframe\">\n",
       "  <thead>\n",
       "    <tr style=\"text-align: right;\">\n",
       "      <th></th>\n",
       "      <th>State</th>\n",
       "      <th>Name</th>\n",
       "      <th>Count</th>\n",
       "    </tr>\n",
       "  </thead>\n",
       "  <tbody>\n",
       "    <tr>\n",
       "      <th>50</th>\n",
       "      <td>NY</td>\n",
       "      <td>Lena</td>\n",
       "      <td>141</td>\n",
       "    </tr>\n",
       "    <tr>\n",
       "      <th>51</th>\n",
       "      <td>NY</td>\n",
       "      <td>Emma</td>\n",
       "      <td>140</td>\n",
       "    </tr>\n",
       "    <tr>\n",
       "      <th>52</th>\n",
       "      <td>NY</td>\n",
       "      <td>Mae</td>\n",
       "      <td>137</td>\n",
       "    </tr>\n",
       "    <tr>\n",
       "      <th>53</th>\n",
       "      <td>NY</td>\n",
       "      <td>Charlotte</td>\n",
       "      <td>133</td>\n",
       "    </tr>\n",
       "    <tr>\n",
       "      <th>54</th>\n",
       "      <td>NY</td>\n",
       "      <td>Pearl</td>\n",
       "      <td>129</td>\n",
       "    </tr>\n",
       "  </tbody>\n",
       "</table>\n",
       "</div>"
      ],
      "text/plain": [
       "   State       Name  Count\n",
       "50    NY       Lena    141\n",
       "51    NY       Emma    140\n",
       "52    NY        Mae    137\n",
       "53    NY  Charlotte    133\n",
       "54    NY      Pearl    129"
      ]
     },
     "execution_count": 13,
     "metadata": {},
     "output_type": "execute_result"
    }
   ],
   "source": [
    "rows = babynamesNY.iloc[50:101]\n",
    "count=rows[rows['Count'] >50]\n",
    "display = count[['State', 'Name','Count']]\n",
    "display.head()"
   ]
  },
  {
   "cell_type": "markdown",
   "id": "0af0748c",
   "metadata": {
    "papermill": {
     "duration": 0.010196,
     "end_time": "2024-10-30T20:49:46.391550",
     "exception": false,
     "start_time": "2024-10-30T20:49:46.381354",
     "status": "completed"
    },
    "tags": []
   },
   "source": [
    "**Question 6: Get the row at index 100 and display it.**"
   ]
  },
  {
   "cell_type": "code",
   "execution_count": 14,
   "id": "5bda3928",
   "metadata": {
    "execution": {
     "iopub.execute_input": "2024-10-30T20:49:46.414716Z",
     "iopub.status.busy": "2024-10-30T20:49:46.413903Z",
     "iopub.status.idle": "2024-10-30T20:49:46.424234Z",
     "shell.execute_reply": "2024-10-30T20:49:46.423205Z"
    },
    "papermill": {
     "duration": 0.023943,
     "end_time": "2024-10-30T20:49:46.426224",
     "exception": false,
     "start_time": "2024-10-30T20:49:46.402281",
     "status": "completed"
    },
    "tags": []
   },
   "outputs": [
    {
     "data": {
      "text/html": [
       "<div>\n",
       "<style scoped>\n",
       "    .dataframe tbody tr th:only-of-type {\n",
       "        vertical-align: middle;\n",
       "    }\n",
       "\n",
       "    .dataframe tbody tr th {\n",
       "        vertical-align: top;\n",
       "    }\n",
       "\n",
       "    .dataframe thead th {\n",
       "        text-align: right;\n",
       "    }\n",
       "</style>\n",
       "<table border=\"1\" class=\"dataframe\">\n",
       "  <thead>\n",
       "    <tr style=\"text-align: right;\">\n",
       "      <th></th>\n",
       "      <th>State</th>\n",
       "      <th>Gender</th>\n",
       "      <th>Year</th>\n",
       "      <th>Name</th>\n",
       "      <th>Count</th>\n",
       "    </tr>\n",
       "  </thead>\n",
       "  <tbody>\n",
       "    <tr>\n",
       "      <th>100</th>\n",
       "      <td>NY</td>\n",
       "      <td>F</td>\n",
       "      <td>1910</td>\n",
       "      <td>Dora</td>\n",
       "      <td>70</td>\n",
       "    </tr>\n",
       "  </tbody>\n",
       "</table>\n",
       "</div>"
      ],
      "text/plain": [
       "    State Gender  Year  Name  Count\n",
       "100    NY      F  1910  Dora     70"
      ]
     },
     "execution_count": 14,
     "metadata": {},
     "output_type": "execute_result"
    }
   ],
   "source": [
    "row_100 =babynamesNY.iloc[100:101]\n",
    "row_100"
   ]
  },
  {
   "cell_type": "markdown",
   "id": "82848e99",
   "metadata": {
    "papermill": {
     "duration": 0.010205,
     "end_time": "2024-10-30T20:49:46.446973",
     "exception": false,
     "start_time": "2024-10-30T20:49:46.436768",
     "status": "completed"
    },
    "tags": []
   },
   "source": [
    "**Modified Question 6: Retrieve the row at index 100, then calculate the sum of all the numeric columns in the dataset for this row.**"
   ]
  },
  {
   "cell_type": "code",
   "execution_count": 15,
   "id": "00b4f681",
   "metadata": {
    "execution": {
     "iopub.execute_input": "2024-10-30T20:49:46.470119Z",
     "iopub.status.busy": "2024-10-30T20:49:46.469219Z",
     "iopub.status.idle": "2024-10-30T20:49:46.477746Z",
     "shell.execute_reply": "2024-10-30T20:49:46.476813Z"
    },
    "papermill": {
     "duration": 0.022306,
     "end_time": "2024-10-30T20:49:46.479924",
     "exception": false,
     "start_time": "2024-10-30T20:49:46.457618",
     "status": "completed"
    },
    "tags": []
   },
   "outputs": [
    {
     "data": {
      "text/plain": [
       "State       NY\n",
       "Gender       F\n",
       "Year      1910\n",
       "Name      Dora\n",
       "Count       70\n",
       "dtype: object"
      ]
     },
     "execution_count": 15,
     "metadata": {},
     "output_type": "execute_result"
    }
   ],
   "source": [
    "row_sum = babynamesNY.iloc[100:101].sum()\n",
    "row_sum"
   ]
  },
  {
   "cell_type": "markdown",
   "id": "df008f80",
   "metadata": {
    "papermill": {
     "duration": 0.010982,
     "end_time": "2024-10-30T20:49:46.501561",
     "exception": false,
     "start_time": "2024-10-30T20:49:46.490579",
     "status": "completed"
    },
    "tags": []
   },
   "source": [
    "**Question 7: Retrieve the 'Name' and 'Count' columns for the first 5 rows.**"
   ]
  },
  {
   "cell_type": "code",
   "execution_count": 16,
   "id": "b4ccc03e",
   "metadata": {
    "execution": {
     "iopub.execute_input": "2024-10-30T20:49:46.524867Z",
     "iopub.status.busy": "2024-10-30T20:49:46.524485Z",
     "iopub.status.idle": "2024-10-30T20:49:46.534593Z",
     "shell.execute_reply": "2024-10-30T20:49:46.533609Z"
    },
    "papermill": {
     "duration": 0.024168,
     "end_time": "2024-10-30T20:49:46.536532",
     "exception": false,
     "start_time": "2024-10-30T20:49:46.512364",
     "status": "completed"
    },
    "tags": []
   },
   "outputs": [
    {
     "data": {
      "text/html": [
       "<div>\n",
       "<style scoped>\n",
       "    .dataframe tbody tr th:only-of-type {\n",
       "        vertical-align: middle;\n",
       "    }\n",
       "\n",
       "    .dataframe tbody tr th {\n",
       "        vertical-align: top;\n",
       "    }\n",
       "\n",
       "    .dataframe thead th {\n",
       "        text-align: right;\n",
       "    }\n",
       "</style>\n",
       "<table border=\"1\" class=\"dataframe\">\n",
       "  <thead>\n",
       "    <tr style=\"text-align: right;\">\n",
       "      <th></th>\n",
       "      <th>Name</th>\n",
       "      <th>Count</th>\n",
       "    </tr>\n",
       "  </thead>\n",
       "  <tbody>\n",
       "    <tr>\n",
       "      <th>0</th>\n",
       "      <td>Mary</td>\n",
       "      <td>1923</td>\n",
       "    </tr>\n",
       "    <tr>\n",
       "      <th>1</th>\n",
       "      <td>Helen</td>\n",
       "      <td>1290</td>\n",
       "    </tr>\n",
       "    <tr>\n",
       "      <th>2</th>\n",
       "      <td>Rose</td>\n",
       "      <td>990</td>\n",
       "    </tr>\n",
       "    <tr>\n",
       "      <th>3</th>\n",
       "      <td>Anna</td>\n",
       "      <td>951</td>\n",
       "    </tr>\n",
       "    <tr>\n",
       "      <th>4</th>\n",
       "      <td>Margaret</td>\n",
       "      <td>926</td>\n",
       "    </tr>\n",
       "  </tbody>\n",
       "</table>\n",
       "</div>"
      ],
      "text/plain": [
       "       Name  Count\n",
       "0      Mary   1923\n",
       "1     Helen   1290\n",
       "2      Rose    990\n",
       "3      Anna    951\n",
       "4  Margaret    926"
      ]
     },
     "execution_count": 16,
     "metadata": {},
     "output_type": "execute_result"
    }
   ],
   "source": [
    "five_rows = babynamesNY.head()\n",
    "five_rows[['Name', 'Count']]"
   ]
  },
  {
   "cell_type": "markdown",
   "id": "070c9b2d",
   "metadata": {
    "papermill": {
     "duration": 0.010535,
     "end_time": "2024-10-30T20:49:46.557857",
     "exception": false,
     "start_time": "2024-10-30T20:49:46.547322",
     "status": "completed"
    },
    "tags": []
   },
   "source": [
    "**Modified Question 7: Retrieve the 'Name' and 'Count' columns for the first 10 rows, but only include rows where the name starts with a vowel.**"
   ]
  },
  {
   "cell_type": "code",
   "execution_count": 17,
   "id": "2f8786d2",
   "metadata": {
    "execution": {
     "iopub.execute_input": "2024-10-30T20:49:46.581608Z",
     "iopub.status.busy": "2024-10-30T20:49:46.580948Z",
     "iopub.status.idle": "2024-10-30T20:49:46.592787Z",
     "shell.execute_reply": "2024-10-30T20:49:46.591791Z"
    },
    "papermill": {
     "duration": 0.026489,
     "end_time": "2024-10-30T20:49:46.595234",
     "exception": false,
     "start_time": "2024-10-30T20:49:46.568745",
     "status": "completed"
    },
    "tags": []
   },
   "outputs": [
    {
     "data": {
      "text/html": [
       "<div>\n",
       "<style scoped>\n",
       "    .dataframe tbody tr th:only-of-type {\n",
       "        vertical-align: middle;\n",
       "    }\n",
       "\n",
       "    .dataframe tbody tr th {\n",
       "        vertical-align: top;\n",
       "    }\n",
       "\n",
       "    .dataframe thead th {\n",
       "        text-align: right;\n",
       "    }\n",
       "</style>\n",
       "<table border=\"1\" class=\"dataframe\">\n",
       "  <thead>\n",
       "    <tr style=\"text-align: right;\">\n",
       "      <th></th>\n",
       "      <th>Name</th>\n",
       "      <th>Count</th>\n",
       "    </tr>\n",
       "  </thead>\n",
       "  <tbody>\n",
       "    <tr>\n",
       "      <th>3</th>\n",
       "      <td>Anna</td>\n",
       "      <td>951</td>\n",
       "    </tr>\n",
       "  </tbody>\n",
       "</table>\n",
       "</div>"
      ],
      "text/plain": [
       "   Name  Count\n",
       "3  Anna    951"
      ]
     },
     "execution_count": 17,
     "metadata": {},
     "output_type": "execute_result"
    }
   ],
   "source": [
    "#function to check vowel\n",
    "def starts_with_vowel(s):\n",
    "  return s[0].lower() in 'aeiou'\n",
    "\n",
    "first_ten = babynamesNY[:10][['Name' , 'Count']]\n",
    "vowel_names = first_ten[first_ten['Name'].apply(starts_with_vowel)]\n",
    "# first_ten\n",
    "vowel_names"
   ]
  },
  {
   "cell_type": "code",
   "execution_count": 18,
   "id": "137d102b",
   "metadata": {
    "execution": {
     "iopub.execute_input": "2024-10-30T20:49:46.619526Z",
     "iopub.status.busy": "2024-10-30T20:49:46.619159Z",
     "iopub.status.idle": "2024-10-30T20:49:46.630554Z",
     "shell.execute_reply": "2024-10-30T20:49:46.629527Z"
    },
    "papermill": {
     "duration": 0.025751,
     "end_time": "2024-10-30T20:49:46.632481",
     "exception": false,
     "start_time": "2024-10-30T20:49:46.606730",
     "status": "completed"
    },
    "tags": []
   },
   "outputs": [
    {
     "data": {
      "text/html": [
       "<div>\n",
       "<style scoped>\n",
       "    .dataframe tbody tr th:only-of-type {\n",
       "        vertical-align: middle;\n",
       "    }\n",
       "\n",
       "    .dataframe tbody tr th {\n",
       "        vertical-align: top;\n",
       "    }\n",
       "\n",
       "    .dataframe thead th {\n",
       "        text-align: right;\n",
       "    }\n",
       "</style>\n",
       "<table border=\"1\" class=\"dataframe\">\n",
       "  <thead>\n",
       "    <tr style=\"text-align: right;\">\n",
       "      <th></th>\n",
       "      <th>Name</th>\n",
       "      <th>Count</th>\n",
       "    </tr>\n",
       "  </thead>\n",
       "  <tbody>\n",
       "    <tr>\n",
       "      <th>6</th>\n",
       "      <td>Evelyn</td>\n",
       "      <td>126</td>\n",
       "    </tr>\n",
       "    <tr>\n",
       "      <th>7</th>\n",
       "      <td>Alice</td>\n",
       "      <td>118</td>\n",
       "    </tr>\n",
       "    <tr>\n",
       "      <th>9</th>\n",
       "      <td>Elizabeth</td>\n",
       "      <td>93</td>\n",
       "    </tr>\n",
       "  </tbody>\n",
       "</table>\n",
       "</div>"
      ],
      "text/plain": [
       "        Name  Count\n",
       "6     Evelyn    126\n",
       "7      Alice    118\n",
       "9  Elizabeth     93"
      ]
     },
     "execution_count": 18,
     "metadata": {},
     "output_type": "execute_result"
    }
   ],
   "source": [
    "first_ten1 = babynamesCA[:10][['Name' , 'Count']]\n",
    "first_ten1[first_ten1['Name'].apply(starts_with_vowel)]"
   ]
  },
  {
   "cell_type": "markdown",
   "id": "f8672cde",
   "metadata": {
    "papermill": {
     "duration": 0.01099,
     "end_time": "2024-10-30T20:49:46.654720",
     "exception": false,
     "start_time": "2024-10-30T20:49:46.643730",
     "status": "completed"
    },
    "tags": []
   },
   "source": [
    "**Question 8: Find all names in the dataset with a count greater than 1000.**"
   ]
  },
  {
   "cell_type": "code",
   "execution_count": 19,
   "id": "f2471c23",
   "metadata": {
    "execution": {
     "iopub.execute_input": "2024-10-30T20:49:46.678637Z",
     "iopub.status.busy": "2024-10-30T20:49:46.677973Z",
     "iopub.status.idle": "2024-10-30T20:49:46.687483Z",
     "shell.execute_reply": "2024-10-30T20:49:46.686531Z"
    },
    "papermill": {
     "duration": 0.023828,
     "end_time": "2024-10-30T20:49:46.689577",
     "exception": false,
     "start_time": "2024-10-30T20:49:46.665749",
     "status": "completed"
    },
    "tags": []
   },
   "outputs": [
    {
     "data": {
      "text/plain": [
       "1950         Mary\n",
       "2417         Mary\n",
       "2894         Mary\n",
       "3405         Mary\n",
       "3925         Mary\n",
       "           ...   \n",
       "411129      Elias\n",
       "411130    Matthew\n",
       "411131       Levi\n",
       "411132      Angel\n",
       "411133      Dylan\n",
       "Name: Name, Length: 5981, dtype: object"
      ]
     },
     "execution_count": 19,
     "metadata": {},
     "output_type": "execute_result"
    }
   ],
   "source": [
    "name_count_10000 = babynamesCA[babynamesCA['Count'] > 1000]['Name']\n",
    "name_count_10000"
   ]
  },
  {
   "cell_type": "markdown",
   "id": "1cb2d262",
   "metadata": {
    "papermill": {
     "duration": 0.01109,
     "end_time": "2024-10-30T20:49:46.712105",
     "exception": false,
     "start_time": "2024-10-30T20:49:46.701015",
     "status": "completed"
    },
    "tags": []
   },
   "source": [
    "**Modified Question 8: Find all names in the dataset with a count greater than 5000, but exclude the state 'TX'.**"
   ]
  },
  {
   "cell_type": "code",
   "execution_count": 20,
   "id": "5fa82132",
   "metadata": {
    "execution": {
     "iopub.execute_input": "2024-10-30T20:49:46.736754Z",
     "iopub.status.busy": "2024-10-30T20:49:46.735843Z",
     "iopub.status.idle": "2024-10-30T20:49:46.745247Z",
     "shell.execute_reply": "2024-10-30T20:49:46.744053Z"
    },
    "papermill": {
     "duration": 0.024074,
     "end_time": "2024-10-30T20:49:46.747495",
     "exception": false,
     "start_time": "2024-10-30T20:49:46.723421",
     "status": "completed"
    },
    "tags": []
   },
   "outputs": [
    {
     "data": {
      "text/plain": [
       "2655         Mary\n",
       "3374         Mary\n",
       "4106         Mary\n",
       "4830         Mary\n",
       "5599         Mary\n",
       "           ...   \n",
       "249350    Michael\n",
       "250873    Michael\n",
       "252459    Michael\n",
       "254143    Michael\n",
       "255820    Michael\n",
       "Name: Name, Length: 269, dtype: object"
      ]
     },
     "execution_count": 20,
     "metadata": {},
     "output_type": "execute_result"
    }
   ],
   "source": [
    "name_count_10000 = babynamesNY[babynamesNY['Count'] > 5000]['Name']\n",
    "name_count_10000"
   ]
  },
  {
   "cell_type": "code",
   "execution_count": 21,
   "id": "ec96f861",
   "metadata": {
    "execution": {
     "iopub.execute_input": "2024-10-30T20:49:46.772410Z",
     "iopub.status.busy": "2024-10-30T20:49:46.771506Z",
     "iopub.status.idle": "2024-10-30T20:49:47.095539Z",
     "shell.execute_reply": "2024-10-30T20:49:47.094453Z"
    },
    "papermill": {
     "duration": 0.338766,
     "end_time": "2024-10-30T20:49:47.097753",
     "exception": false,
     "start_time": "2024-10-30T20:49:46.758987",
     "status": "completed"
    },
    "tags": []
   },
   "outputs": [
    {
     "data": {
      "text/html": [
       "<div>\n",
       "<style scoped>\n",
       "    .dataframe tbody tr th:only-of-type {\n",
       "        vertical-align: middle;\n",
       "    }\n",
       "\n",
       "    .dataframe tbody tr th {\n",
       "        vertical-align: top;\n",
       "    }\n",
       "\n",
       "    .dataframe thead th {\n",
       "        text-align: right;\n",
       "    }\n",
       "</style>\n",
       "<table border=\"1\" class=\"dataframe\">\n",
       "  <thead>\n",
       "    <tr style=\"text-align: right;\">\n",
       "      <th></th>\n",
       "      <th>State</th>\n",
       "      <th>Gender</th>\n",
       "      <th>Year</th>\n",
       "      <th>Name</th>\n",
       "      <th>Count</th>\n",
       "    </tr>\n",
       "  </thead>\n",
       "  <tbody>\n",
       "    <tr>\n",
       "      <th>0</th>\n",
       "      <td>TX</td>\n",
       "      <td>F</td>\n",
       "      <td>1910</td>\n",
       "      <td>Mary</td>\n",
       "      <td>895</td>\n",
       "    </tr>\n",
       "    <tr>\n",
       "      <th>1</th>\n",
       "      <td>TX</td>\n",
       "      <td>F</td>\n",
       "      <td>1910</td>\n",
       "      <td>Ruby</td>\n",
       "      <td>314</td>\n",
       "    </tr>\n",
       "    <tr>\n",
       "      <th>2</th>\n",
       "      <td>TX</td>\n",
       "      <td>F</td>\n",
       "      <td>1910</td>\n",
       "      <td>Annie</td>\n",
       "      <td>277</td>\n",
       "    </tr>\n",
       "    <tr>\n",
       "      <th>3</th>\n",
       "      <td>TX</td>\n",
       "      <td>F</td>\n",
       "      <td>1910</td>\n",
       "      <td>Willie</td>\n",
       "      <td>260</td>\n",
       "    </tr>\n",
       "    <tr>\n",
       "      <th>4</th>\n",
       "      <td>TX</td>\n",
       "      <td>F</td>\n",
       "      <td>1910</td>\n",
       "      <td>Ruth</td>\n",
       "      <td>252</td>\n",
       "    </tr>\n",
       "  </tbody>\n",
       "</table>\n",
       "</div>"
      ],
      "text/plain": [
       "  State Gender  Year    Name  Count\n",
       "0    TX      F  1910    Mary    895\n",
       "1    TX      F  1910    Ruby    314\n",
       "2    TX      F  1910   Annie    277\n",
       "3    TX      F  1910  Willie    260\n",
       "4    TX      F  1910    Ruth    252"
      ]
     },
     "execution_count": 21,
     "metadata": {},
     "output_type": "execute_result"
    }
   ],
   "source": [
    "local_file_path = \"/kaggle/input/babynamesbystate-zip/TX.TXT\"\n",
    "\n",
    "field_names = ['State', 'Gender', 'Year', 'Name', 'Count']\n",
    "\n",
    "# Read the CSV file directly\n",
    "babynamesTX = pd.read_csv(local_file_path, header=None, names=field_names)\n",
    "\n",
    "# Display the first few rows\n",
    "babynamesTX.head()\n"
   ]
  },
  {
   "cell_type": "markdown",
   "id": "37d2b695",
   "metadata": {
    "papermill": {
     "duration": 0.011394,
     "end_time": "2024-10-30T20:49:47.120928",
     "exception": false,
     "start_time": "2024-10-30T20:49:47.109534",
     "status": "completed"
    },
    "tags": []
   },
   "source": [
    "**Question 9: Get all baby names that start with the letter 'A' from the state of Texas (TX).**"
   ]
  },
  {
   "cell_type": "code",
   "execution_count": 22,
   "id": "8f5e48b1",
   "metadata": {
    "execution": {
     "iopub.execute_input": "2024-10-30T20:49:47.146356Z",
     "iopub.status.busy": "2024-10-30T20:49:47.145453Z",
     "iopub.status.idle": "2024-10-30T20:49:47.276219Z",
     "shell.execute_reply": "2024-10-30T20:49:47.274852Z"
    },
    "papermill": {
     "duration": 0.14574,
     "end_time": "2024-10-30T20:49:47.278372",
     "exception": false,
     "start_time": "2024-10-30T20:49:47.132632",
     "status": "completed"
    },
    "tags": []
   },
   "outputs": [
    {
     "data": {
      "text/html": [
       "<div>\n",
       "<style scoped>\n",
       "    .dataframe tbody tr th:only-of-type {\n",
       "        vertical-align: middle;\n",
       "    }\n",
       "\n",
       "    .dataframe tbody tr th {\n",
       "        vertical-align: top;\n",
       "    }\n",
       "\n",
       "    .dataframe thead th {\n",
       "        text-align: right;\n",
       "    }\n",
       "</style>\n",
       "<table border=\"1\" class=\"dataframe\">\n",
       "  <thead>\n",
       "    <tr style=\"text-align: right;\">\n",
       "      <th></th>\n",
       "      <th>State</th>\n",
       "      <th>Gender</th>\n",
       "      <th>Year</th>\n",
       "      <th>Name</th>\n",
       "      <th>Count</th>\n",
       "    </tr>\n",
       "  </thead>\n",
       "  <tbody>\n",
       "    <tr>\n",
       "      <th>2</th>\n",
       "      <td>TX</td>\n",
       "      <td>F</td>\n",
       "      <td>1910</td>\n",
       "      <td>Annie</td>\n",
       "      <td>277</td>\n",
       "    </tr>\n",
       "    <tr>\n",
       "      <th>22</th>\n",
       "      <td>TX</td>\n",
       "      <td>F</td>\n",
       "      <td>1910</td>\n",
       "      <td>Alice</td>\n",
       "      <td>149</td>\n",
       "    </tr>\n",
       "    <tr>\n",
       "      <th>40</th>\n",
       "      <td>TX</td>\n",
       "      <td>F</td>\n",
       "      <td>1910</td>\n",
       "      <td>Anna</td>\n",
       "      <td>117</td>\n",
       "    </tr>\n",
       "    <tr>\n",
       "      <th>41</th>\n",
       "      <td>TX</td>\n",
       "      <td>F</td>\n",
       "      <td>1910</td>\n",
       "      <td>Alma</td>\n",
       "      <td>116</td>\n",
       "    </tr>\n",
       "    <tr>\n",
       "      <th>76</th>\n",
       "      <td>TX</td>\n",
       "      <td>F</td>\n",
       "      <td>1910</td>\n",
       "      <td>Ada</td>\n",
       "      <td>63</td>\n",
       "    </tr>\n",
       "    <tr>\n",
       "      <th>...</th>\n",
       "      <td>...</td>\n",
       "      <td>...</td>\n",
       "      <td>...</td>\n",
       "      <td>...</td>\n",
       "      <td>...</td>\n",
       "    </tr>\n",
       "    <tr>\n",
       "      <th>382353</th>\n",
       "      <td>TX</td>\n",
       "      <td>M</td>\n",
       "      <td>2023</td>\n",
       "      <td>Ayrton</td>\n",
       "      <td>5</td>\n",
       "    </tr>\n",
       "    <tr>\n",
       "      <th>382354</th>\n",
       "      <td>TX</td>\n",
       "      <td>M</td>\n",
       "      <td>2023</td>\n",
       "      <td>Ayson</td>\n",
       "      <td>5</td>\n",
       "    </tr>\n",
       "    <tr>\n",
       "      <th>382355</th>\n",
       "      <td>TX</td>\n",
       "      <td>M</td>\n",
       "      <td>2023</td>\n",
       "      <td>Azaias</td>\n",
       "      <td>5</td>\n",
       "    </tr>\n",
       "    <tr>\n",
       "      <th>382356</th>\n",
       "      <td>TX</td>\n",
       "      <td>M</td>\n",
       "      <td>2023</td>\n",
       "      <td>Azariel</td>\n",
       "      <td>5</td>\n",
       "    </tr>\n",
       "    <tr>\n",
       "      <th>382357</th>\n",
       "      <td>TX</td>\n",
       "      <td>M</td>\n",
       "      <td>2023</td>\n",
       "      <td>Azeem</td>\n",
       "      <td>5</td>\n",
       "    </tr>\n",
       "  </tbody>\n",
       "</table>\n",
       "<p>40502 rows × 5 columns</p>\n",
       "</div>"
      ],
      "text/plain": [
       "       State Gender  Year     Name  Count\n",
       "2         TX      F  1910    Annie    277\n",
       "22        TX      F  1910    Alice    149\n",
       "40        TX      F  1910     Anna    117\n",
       "41        TX      F  1910     Alma    116\n",
       "76        TX      F  1910      Ada     63\n",
       "...      ...    ...   ...      ...    ...\n",
       "382353    TX      M  2023   Ayrton      5\n",
       "382354    TX      M  2023    Ayson      5\n",
       "382355    TX      M  2023   Azaias      5\n",
       "382356    TX      M  2023  Azariel      5\n",
       "382357    TX      M  2023    Azeem      5\n",
       "\n",
       "[40502 rows x 5 columns]"
      ]
     },
     "execution_count": 22,
     "metadata": {},
     "output_type": "execute_result"
    }
   ],
   "source": [
    "name_startWith_A = babynamesTX[babynamesTX['Name'].str.startswith('A')]\n",
    "name_startWith_A"
   ]
  },
  {
   "cell_type": "markdown",
   "id": "326d6b85",
   "metadata": {
    "papermill": {
     "duration": 0.011516,
     "end_time": "2024-10-30T20:49:47.301785",
     "exception": false,
     "start_time": "2024-10-30T20:49:47.290269",
     "status": "completed"
    },
    "tags": []
   },
   "source": [
    "**Question 10: Get the first 5 rows for the state 'CA', then select only the 'Year', 'Name', and 'Count' columns.**"
   ]
  },
  {
   "cell_type": "code",
   "execution_count": 23,
   "id": "efa70e16",
   "metadata": {
    "execution": {
     "iopub.execute_input": "2024-10-30T20:49:47.327561Z",
     "iopub.status.busy": "2024-10-30T20:49:47.326533Z",
     "iopub.status.idle": "2024-10-30T20:49:47.337581Z",
     "shell.execute_reply": "2024-10-30T20:49:47.336513Z"
    },
    "papermill": {
     "duration": 0.02631,
     "end_time": "2024-10-30T20:49:47.339898",
     "exception": false,
     "start_time": "2024-10-30T20:49:47.313588",
     "status": "completed"
    },
    "tags": []
   },
   "outputs": [
    {
     "data": {
      "text/html": [
       "<div>\n",
       "<style scoped>\n",
       "    .dataframe tbody tr th:only-of-type {\n",
       "        vertical-align: middle;\n",
       "    }\n",
       "\n",
       "    .dataframe tbody tr th {\n",
       "        vertical-align: top;\n",
       "    }\n",
       "\n",
       "    .dataframe thead th {\n",
       "        text-align: right;\n",
       "    }\n",
       "</style>\n",
       "<table border=\"1\" class=\"dataframe\">\n",
       "  <thead>\n",
       "    <tr style=\"text-align: right;\">\n",
       "      <th></th>\n",
       "      <th>Year</th>\n",
       "      <th>Name</th>\n",
       "      <th>Count</th>\n",
       "    </tr>\n",
       "  </thead>\n",
       "  <tbody>\n",
       "    <tr>\n",
       "      <th>0</th>\n",
       "      <td>1910</td>\n",
       "      <td>Mary</td>\n",
       "      <td>295</td>\n",
       "    </tr>\n",
       "    <tr>\n",
       "      <th>1</th>\n",
       "      <td>1910</td>\n",
       "      <td>Helen</td>\n",
       "      <td>239</td>\n",
       "    </tr>\n",
       "    <tr>\n",
       "      <th>2</th>\n",
       "      <td>1910</td>\n",
       "      <td>Dorothy</td>\n",
       "      <td>220</td>\n",
       "    </tr>\n",
       "    <tr>\n",
       "      <th>3</th>\n",
       "      <td>1910</td>\n",
       "      <td>Margaret</td>\n",
       "      <td>163</td>\n",
       "    </tr>\n",
       "    <tr>\n",
       "      <th>4</th>\n",
       "      <td>1910</td>\n",
       "      <td>Frances</td>\n",
       "      <td>134</td>\n",
       "    </tr>\n",
       "  </tbody>\n",
       "</table>\n",
       "</div>"
      ],
      "text/plain": [
       "   Year      Name  Count\n",
       "0  1910      Mary    295\n",
       "1  1910     Helen    239\n",
       "2  1910   Dorothy    220\n",
       "3  1910  Margaret    163\n",
       "4  1910   Frances    134"
      ]
     },
     "execution_count": 23,
     "metadata": {},
     "output_type": "execute_result"
    }
   ],
   "source": [
    "five_rows_CA = babynamesCA[:5]\n",
    "five_rows_CA[['Year', 'Name', 'Count' ]]"
   ]
  }
 ],
 "metadata": {
  "kaggle": {
   "accelerator": "none",
   "dataSources": [
    {
     "datasetId": 5925311,
     "sourceId": 9691748,
     "sourceType": "datasetVersion"
    }
   ],
   "dockerImageVersionId": 30786,
   "isGpuEnabled": false,
   "isInternetEnabled": true,
   "language": "python",
   "sourceType": "notebook"
  },
  "kernelspec": {
   "display_name": "Python 3",
   "language": "python",
   "name": "python3"
  },
  "language_info": {
   "codemirror_mode": {
    "name": "ipython",
    "version": 3
   },
   "file_extension": ".py",
   "mimetype": "text/x-python",
   "name": "python",
   "nbconvert_exporter": "python",
   "pygments_lexer": "ipython3",
   "version": "3.10.14"
  },
  "papermill": {
   "default_parameters": {},
   "duration": 6.367341,
   "end_time": "2024-10-30T20:49:47.872484",
   "environment_variables": {},
   "exception": null,
   "input_path": "__notebook__.ipynb",
   "output_path": "__notebook__.ipynb",
   "parameters": {},
   "start_time": "2024-10-30T20:49:41.505143",
   "version": "2.6.0"
  }
 },
 "nbformat": 4,
 "nbformat_minor": 5
}
